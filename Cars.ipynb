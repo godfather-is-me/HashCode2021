{
 "cells": [
  {
   "cell_type": "code",
   "execution_count": 1,
   "metadata": {},
   "outputs": [],
   "source": [
    "import numpy as np\n",
    "import pandas as pd"
   ]
  },
  {
   "cell_type": "code",
   "execution_count": 2,
   "metadata": {},
   "outputs": [
    {
     "name": "stdout",
     "output_type": "stream",
     "text": [
      "6 4 5 2 1000\n",
      "\n",
      "2 0 rue-de-londres 1\n",
      "\n",
      "0 1 rue-d-amsterdam 1\n",
      "\n",
      "3 1 rue-d-athenes 1\n",
      "\n",
      "2 3 rue-de-rome 2\n",
      "\n",
      "1 2 rue-de-moscou 3\n",
      "\n",
      "4 rue-de-londres rue-d-amsterdam rue-de-moscou rue-de-rome\n",
      "\n",
      "3 rue-d-athenes rue-de-moscou rue-de-londres\n",
      "\n"
     ]
    }
   ],
   "source": [
    "# Read file\n",
    "fopen = open(\"a.txt\")\n",
    "\n",
    "for f in fopen:\n",
    "    print(f)"
   ]
  },
  {
   "cell_type": "code",
   "execution_count": 3,
   "metadata": {},
   "outputs": [
    {
     "name": "stdout",
     "output_type": "stream",
     "text": [
      "['6', '4', '5', '2', '1000']\n"
     ]
    }
   ],
   "source": [
    "# Read file\n",
    "fopen = open(\"a.txt\")\n",
    "firstline = fopen.readline().split()\n",
    "\n",
    "# First line\n",
    "\n",
    "# Duration\n",
    "D = int(firstline[0])\n",
    "\n",
    "# Intersections\n",
    "I = int(firstline[1])\n",
    "\n",
    "# Streets\n",
    "S = int(firstline[2])\n",
    "\n",
    "# num cars\n",
    "V = int(firstline[3])\n",
    "\n",
    "# Point for each car\n",
    "F = int(firstline[4])\n",
    "\n",
    "print(firstline)"
   ]
  },
  {
   "cell_type": "code",
   "execution_count": 4,
   "metadata": {},
   "outputs": [
    {
     "name": "stdout",
     "output_type": "stream",
     "text": [
      "['2', '0', 'rue-de-londres', '1']\n",
      "['0', '1', 'rue-d-amsterdam', '1']\n",
      "['3', '1', 'rue-d-athenes', '1']\n",
      "['2', '3', 'rue-de-rome', '2']\n",
      "['1', '2', 'rue-de-moscou', '3']\n",
      "\n",
      "{'rue-de-londres': (2, 0, 1), 'rue-d-amsterdam': (0, 1, 1), 'rue-d-athenes': (3, 1, 1), 'rue-de-rome': (2, 3, 2), 'rue-de-moscou': (1, 2, 3)}\n",
      "\n",
      "[[0. 1. 0. 0.]\n",
      " [0. 0. 1. 0.]\n",
      " [1. 0. 0. 1.]\n",
      " [0. 1. 0. 0.]]\n"
     ]
    }
   ],
   "source": [
    "# Create a weighted matrix\n",
    "weighted = np.zeros((I,I))\n",
    "# print(weighted)\n",
    "\n",
    "# Dictionary of streets\n",
    "streets = {}\n",
    "\n",
    "for i in range(S):\n",
    "    each_line = fopen.readline().split()\n",
    "    print(each_line)\n",
    "    weighted[int(each_line[0]), int(each_line[1])] = 1\n",
    "    # Set path for each street - intersection start to end, time it takes for car\n",
    "    streets[each_line[2]] = (int(each_line[0]), int(each_line[1]), int(each_line[3]))\n",
    "\n",
    "print()\n",
    "print(streets)\n",
    "print()\n",
    "print(weighted)"
   ]
  },
  {
   "cell_type": "code",
   "execution_count": 5,
   "metadata": {},
   "outputs": [
    {
     "name": "stdout",
     "output_type": "stream",
     "text": [
      "{0: [0, 1, 2, 3], 1: [1, 2, 0]}\n"
     ]
    }
   ],
   "source": [
    "#Printing sequence of intersections each car has to go through\n",
    "paths = {}\n",
    "\n",
    "for car in range(V):\n",
    "    car_line = fopen.readline().split()\n",
    "    cnt = 0\n",
    "    paths[car] = []\n",
    "    for j in range(1,len(car_line)):\n",
    "        paths[car].append(streets[car_line[j]][1])\n",
    "\n",
    "print(paths)"
   ]
  },
  {
   "cell_type": "code",
   "execution_count": null,
   "metadata": {},
   "outputs": [],
   "source": []
  }
 ],
 "metadata": {
  "kernelspec": {
   "display_name": "Python 3",
   "language": "python",
   "name": "python3"
  },
  "language_info": {
   "codemirror_mode": {
    "name": "ipython",
    "version": 3
   },
   "file_extension": ".py",
   "mimetype": "text/x-python",
   "name": "python",
   "nbconvert_exporter": "python",
   "pygments_lexer": "ipython3",
   "version": "3.8.3"
  }
 },
 "nbformat": 4,
 "nbformat_minor": 2
}
